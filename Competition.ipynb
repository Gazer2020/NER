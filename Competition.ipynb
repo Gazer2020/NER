{
 "cells": [
  {
   "cell_type": "markdown",
   "id": "f4c2f7cf-3edc-4026-9ea7-5dcb86992b1e",
   "metadata": {},
   "source": [
    "# NER 命名实体识别任务baseline\n",
    "本示例仅提供完整的运行流程，供大家进行初步学习<br>\n",
    "自行尝试须注意基本配置与文件目录的定义<br>\n",
    "具体脚本内容可在相应.py文件内查看"
   ]
  },
  {
   "cell_type": "markdown",
   "id": "5f4c404b-113b-4c15-82cd-a3a49dc0ca2e",
   "metadata": {},
   "source": [
    "### 1.基本配置\n",
    "安装脚本依赖库<br>\n",
    "每次重启notebook须重新安装"
   ]
  },
  {
   "cell_type": "code",
   "execution_count": 1,
   "id": "3993833d-a987-48be-9752-e43a39a0c1f2",
   "metadata": {},
   "outputs": [
    {
     "name": "stdout",
     "output_type": "stream",
     "text": [
      "Looking in indexes: http://repo.myhuaweicloud.com/repository/pypi/simple\n",
      "Collecting docopt\n",
      "  Downloading http://repo.myhuaweicloud.com/repository/pypi/packages/a2/55/8f8cab2afd404cf578136ef2cc5dfb50baa1761b68c9da1fb1e4eed343c9/docopt-0.6.2.tar.gz (25 kB)\n",
      "Building wheels for collected packages: docopt\n",
      "  Building wheel for docopt (setup.py) ... \u001b[?25ldone\n",
      "\u001b[?25h  Created wheel for docopt: filename=docopt-0.6.2-py2.py3-none-any.whl size=13706 sha256=c6304696515f40640f18d5d0c4072c47c98c697cc208421e68e4d6b395a67c49\n",
      "  Stored in directory: /home/ma-user/.cache/pip/wheels/6a/96/4d/255bd44721c1c199348fc6c9090b061b587eeaf5a7d6315c08\n",
      "Successfully built docopt\n",
      "Installing collected packages: docopt\n",
      "Successfully installed docopt-0.6.2\n",
      "\u001b[33mWARNING: You are using pip version 21.0.1; however, version 23.0.1 is available.\n",
      "You should consider upgrading via the '/home/ma-user/anaconda3/envs/PyTorch-1.10.2/bin/python3.7 -m pip install --upgrade pip' command.\u001b[0m\n"
     ]
    }
   ],
   "source": [
    "!pip install docopt"
   ]
  },
  {
   "cell_type": "markdown",
   "id": "870c2ad3-56a7-443d-ace1-6a81742a3589",
   "metadata": {},
   "source": [
    "切换至Baseline里的文件目录"
   ]
  },
  {
   "cell_type": "code",
   "execution_count": 2,
   "id": "efc6c37e-7b37-4d68-b266-7e44e57284c0",
   "metadata": {},
   "outputs": [
    {
     "name": "stdout",
     "output_type": "stream",
     "text": [
      "/home/ma-user/work/Baseline/model\n"
     ]
    }
   ],
   "source": [
    "%cd Baseline/model"
   ]
  },
  {
   "cell_type": "markdown",
   "id": "95f86354-c8f6-4bac-80de-7c0f18ad95ba",
   "metadata": {},
   "source": [
    "### 2.构建词典<br>\n",
    "须在代码中替换训练集文件目录（示例：data/train.txt）<br>\n",
    "生成的.json文件自动保存在vocab目录(示例：‘vocab/sent_vocab.json vocab/tag_vocab.json’)"
   ]
  },
  {
   "cell_type": "code",
   "execution_count": 27,
   "id": "69e339b1-9a2f-4512-8276-8b84db10fd3e",
   "metadata": {},
   "outputs": [
    {
     "name": "stdout",
     "output_type": "stream",
     "text": [
      "The number of sentences in train.txt: 7\n"
     ]
    }
   ],
   "source": [
    "!python utils.py\n",
    "!python vocab.py  data/train.txt  vocab/sent_vocab.json  vocab/tag_vocab.json"
   ]
  },
  {
   "cell_type": "code",
   "execution_count": 15,
   "id": "0e50be5a-30a8-42c4-83e9-72b743a81f89",
   "metadata": {},
   "outputs": [],
   "source": []
  },
  {
   "cell_type": "markdown",
   "id": "793da23c-c39c-407a-b20d-f3c1ad8abc51",
   "metadata": {},
   "source": [
    "### 3.模型训练<br>\n",
    "修改epoch数量可以通过修改代码中('--max-epoch=10')中的数字进行修改，如未使用gpu，删除最后的('--cuda')即可，其他具体参数可在run.py查看<br>\n",
    "注意训练集文件目录"
   ]
  },
  {
   "cell_type": "code",
   "execution_count": 28,
   "id": "1185ba22-9c94-43cd-9649-943931e673a6",
   "metadata": {},
   "outputs": [
    {
     "name": "stdout",
     "output_type": "stream",
     "text": [
      "num of training examples: 5\n",
      "num of development examples: 2\n",
      "start training...\n",
      "log: epoch 10, iter 10, 2492.6 words/sec, avg_loss 148.127067, time 1.3 sec\n",
      "Reached 10 epochs, Save result model to ./model.pth\n"
     ]
    }
   ],
   "source": [
    "!python run.py train data/train.txt vocab/sent_vocab.json vocab/tag_vocab.json --max-epoch=10 --cuda"
   ]
  },
  {
   "cell_type": "markdown",
   "id": "e0f0c9e6-d0d0-476f-a234-9443429a2be4",
   "metadata": {},
   "source": [
    "### 4.模型测试<br>\n",
    "使用上一步训练的模型在测试集判分<br>\n",
    "如需修改测试集，可替换test.txt，或修改.sh脚本中路径<br>\n",
    "生成结果文件result.txt，可打开查看格式示例"
   ]
  },
  {
   "cell_type": "code",
   "execution_count": 29,
   "id": "d01b4cfa-726e-4f7a-bea5-a3384fbed8b5",
   "metadata": {},
   "outputs": [
    {
     "name": "stdout",
     "output_type": "stream",
     "text": [
      "num of test samples: 1\n",
      "start testing...\n",
      "using device cuda\n",
      "processed 49 tokens with 3 phrases; found: 0 phrases; correct: 0.\n",
      "accuracy:  57.14%; precision:   0.00%; recall:   0.00%; FB1:   0.00\n",
      "             DATE: precision:   0.00%; recall:   0.00%; FB1:   0.00  0\n",
      "              LOC: precision:   0.00%; recall:   0.00%; FB1:   0.00  0\n",
      "              ORG: precision:   0.00%; recall:   0.00%; FB1:   0.00  0\n"
     ]
    }
   ],
   "source": [
    "!sh run.sh test"
   ]
  },
  {
   "cell_type": "markdown",
   "id": "36171d4e-1c6c-4f93-957f-36cc2a46e5ef",
   "metadata": {},
   "source": [
    "### 5.模型上传至ModelArts-AI应用\n",
    "将训练好的模型导入ModelArts 将模型导入ModelArts，为后续推理测试、模型提交做准备。最后显示“所有模型导入完成”证明运行成功。"
   ]
  },
  {
   "cell_type": "code",
   "execution_count": 4,
   "id": "d7495830-3d01-4d96-8848-dd3afd65fbb6",
   "metadata": {},
   "outputs": [
    {
     "name": "stdout",
     "output_type": "stream",
     "text": [
      "Looking in indexes: http://repo.myhuaweicloud.com/repository/pypi/simple\n",
      "Requirement already satisfied: json5 in /home/ma-user/anaconda3/envs/PyTorch-1.10.2/lib/python3.7/site-packages (0.9.10)\n",
      "\u001b[33mWARNING: You are using pip version 21.0.1; however, version 23.0.1 is available.\n",
      "You should consider upgrading via the '/home/ma-user/anaconda3/envs/PyTorch-1.10.2/bin/python3.7 -m pip install --upgrade pip' command.\u001b[0m\n",
      "正在导入模型,模型名称： model_888\n",
      "Successfully create bucket modelarts-cn-north-4-46c3fe9b \n"
     ]
    },
    {
     "name": "stderr",
     "output_type": "stream",
     "text": [
      "INFO:obs:Successfully upload file /home/ma-user/work/Baseline/model to OBS modelarts-cn-north-4-46c3fe9b/model-0717-044831\n",
      "INFO:obs:Successfully upload file /home/ma-user/work/Baseline/model/.ipynb_checkpoints to OBS modelarts-cn-north-4-46c3fe9b/model-0717-044831/model\n",
      "INFO:obs:Successfully upload file /home/ma-user/work/Baseline/model/.ipynb_checkpoints to OBS modelarts-cn-north-4-46c3fe9b/model-0717-044831/model\n",
      "INFO:obs:Successfully upload file /home/ma-user/work/Baseline/model/.ipynb_checkpoints to OBS modelarts-cn-north-4-46c3fe9b/model-0717-044831/model\n",
      "INFO:obs:Successfully upload file /home/ma-user/work/Baseline/model/.ipynb_checkpoints to OBS modelarts-cn-north-4-46c3fe9b/model-0717-044831/model\n",
      "INFO:obs:Successfully upload file /home/ma-user/work/Baseline/model/.ipynb_checkpoints to OBS modelarts-cn-north-4-46c3fe9b/model-0717-044831/model\n",
      "INFO:obs:Successfully upload file /home/ma-user/work/Baseline/model to OBS modelarts-cn-north-4-46c3fe9b/model-0717-044831\n",
      "INFO:obs:Successfully upload file /home/ma-user/work/Baseline/model/vocab to OBS modelarts-cn-north-4-46c3fe9b/model-0717-044831/model\n",
      "INFO:obs:Successfully upload file /home/ma-user/work/Baseline/model/vocab to OBS modelarts-cn-north-4-46c3fe9b/model-0717-044831/model\n",
      "INFO:obs:Successfully upload file /home/ma-user/work/Baseline/model/vocab to OBS modelarts-cn-north-4-46c3fe9b/model-0717-044831/model\n",
      "INFO:obs:Successfully upload file /home/ma-user/work/Baseline/model to OBS modelarts-cn-north-4-46c3fe9b/model-0717-044831\n",
      "INFO:obs:Successfully upload file /home/ma-user/work/Baseline/model/__pycache__ to OBS modelarts-cn-north-4-46c3fe9b/model-0717-044831/model\n",
      "INFO:obs:Successfully upload file /home/ma-user/work/Baseline/model/__pycache__ to OBS modelarts-cn-north-4-46c3fe9b/model-0717-044831/model\n",
      "INFO:obs:Successfully upload file /home/ma-user/work/Baseline/model/__pycache__ to OBS modelarts-cn-north-4-46c3fe9b/model-0717-044831/model\n",
      "INFO:obs:Successfully upload file /home/ma-user/work/Baseline/model to OBS modelarts-cn-north-4-46c3fe9b/model-0717-044831\n",
      "INFO:obs:Successfully upload file /home/ma-user/work/Baseline/model to OBS modelarts-cn-north-4-46c3fe9b/model-0717-044831\n",
      "INFO:obs:Successfully upload file /home/ma-user/work/Baseline/model/data to OBS modelarts-cn-north-4-46c3fe9b/model-0717-044831/model\n",
      "INFO:obs:Successfully upload file /home/ma-user/work/Baseline/model/data/.ipynb_checkpoints to OBS modelarts-cn-north-4-46c3fe9b/model-0717-044831/model/data\n",
      "INFO:obs:Successfully upload file /home/ma-user/work/Baseline/model/data/.ipynb_checkpoints to OBS modelarts-cn-north-4-46c3fe9b/model-0717-044831/model/data\n",
      "INFO:obs:Successfully upload file /home/ma-user/work/Baseline/model/data to OBS modelarts-cn-north-4-46c3fe9b/model-0717-044831/model\n",
      "INFO:obs:Successfully upload file /home/ma-user/work/Baseline/model to OBS modelarts-cn-north-4-46c3fe9b/model-0717-044831\n",
      "INFO:obs:Successfully upload file /home/ma-user/work/Baseline/model to OBS modelarts-cn-north-4-46c3fe9b/model-0717-044831\n",
      "INFO:obs:Successfully upload file /home/ma-user/work/Baseline/model to OBS modelarts-cn-north-4-46c3fe9b/model-0717-044831\n",
      "INFO:obs:Successfully upload file /home/ma-user/work/Baseline/model to OBS modelarts-cn-north-4-46c3fe9b/model-0717-044831\n",
      "INFO:obs:Successfully upload file /home/ma-user/work/Baseline/model to OBS modelarts-cn-north-4-46c3fe9b/model-0717-044831\n",
      "INFO:obs:Successfully upload file /home/ma-user/work/Baseline/model to OBS modelarts-cn-north-4-46c3fe9b/model-0717-044831\n",
      "INFO:obs:Successfully upload file /home/ma-user/work/Baseline/model to OBS modelarts-cn-north-4-46c3fe9b/model-0717-044831\n",
      "INFO:obs:Successfully upload file /home/ma-user/work/Baseline/model to OBS modelarts-cn-north-4-46c3fe9b/model-0717-044831\n"
     ]
    },
    {
     "name": "stdout",
     "output_type": "stream",
     "text": [
      "Successfully upload file /home/ma-user/work/Baseline/model to OBS modelarts-cn-north-4-46c3fe9b/model-0717-044831\n",
      "Successfully upload model files from /home/ma-user/work/Baseline/model to obs path /modelarts-cn-north-4-46c3fe9b/model-0717-044831.\n",
      "The model source location is https://modelarts-cn-north-4-46c3fe9b.obs.cn-north-4.myhuaweicloud.com/model-0717-044831/model\n",
      "publishing\n",
      "published\n",
      "所有模型导入完成\n"
     ]
    }
   ],
   "source": [
    "from modelarts.session import Session\n",
    "from modelarts.model import Model\n",
    "from modelarts.config.model_config import TransformerConfig,Params\n",
    "!pip install json5\n",
    "import json5\n",
    "import re\n",
    "import traceback\n",
    "import random\n",
    "import moxing as mox\n",
    "\n",
    "try:\n",
    "    session = Session()\n",
    "    config_path = 'Baseline/model/config.json'  #注意config.json路径\n",
    "    if mox.file.exists(config_path): # 判断一下是否存在配置文件，如果没有则不能导入模型\n",
    "        model_location =  'Baseline/model'\n",
    "        model_name = \"modelname\" #模型名称可自行定义\n",
    "        load_dict = json5.loads(mox.file.read(config_path))\n",
    "        model_type = load_dict['model_type']\n",
    "        re_name = '_'+str(random.randint(0,1000))\n",
    "        model_name += re_name\n",
    "        runtime=load_dict['runtime']\n",
    "        print(\"正在导入模型,模型名称：\", model_name)\n",
    "        model_instance = Model(\n",
    "                     session, \n",
    "                     model_name=model_name,               # 模型名称\n",
    "                     model_version=\"1.0.0\",               # 模型版本\n",
    "                      source_location_type='LOCAL_SOURCE',\n",
    "                     source_location=model_location,      # 模型文件路径\n",
    "                     model_type=model_type,# 模型类型\n",
    "                     runtime=runtime\n",
    "                     )\n",
    "\n",
    "    print(\"所有模型导入完成\")\n",
    "except Exception as e:\n",
    "    print(\"发生了一些问题，请看下面的报错信息：\") \n",
    "    traceback.print_exc()\n",
    "    print(\"模型导入失败\")"
   ]
  }
 ],
 "metadata": {
  "kernelspec": {
   "display_name": "PyTorch-1.10.2",
   "language": "python",
   "name": "pytorch-1.10.2"
  },
  "language_info": {
   "codemirror_mode": {
    "name": "ipython",
    "version": 3
   },
   "file_extension": ".py",
   "mimetype": "text/x-python",
   "name": "python",
   "nbconvert_exporter": "python",
   "pygments_lexer": "ipython3",
   "version": "3.7.10"
  }
 },
 "nbformat": 4,
 "nbformat_minor": 5
}
